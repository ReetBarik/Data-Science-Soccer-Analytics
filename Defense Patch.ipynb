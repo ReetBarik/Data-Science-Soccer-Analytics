{
 "cells": [
  {
   "cell_type": "code",
   "execution_count": 1,
   "metadata": {},
   "outputs": [],
   "source": [
    "import json\n",
    "import pandas as pd\n",
    "from pandas.io.json import json_normalize\n",
    "import matplotlib.pyplot as plt\n",
    "import numpy as np\n",
    "import matplotlib\n",
    "import random\n",
    "matplotlib.style.use(\"ggplot\")\n",
    "random.seed( 30 )"
   ]
  },
  {
   "cell_type": "code",
   "execution_count": 2,
   "metadata": {},
   "outputs": [],
   "source": [
    "n = \"69321\"\n",
    "file = \"data/events\" + \"/\" + n + \".json\"\n",
    "with open (file, \"r\", encoding='utf-8-sig') as f:\n",
    "\tobj = json.load(f)"
   ]
  },
  {
   "cell_type": "code",
   "execution_count": 3,
   "metadata": {},
   "outputs": [],
   "source": [
    "df = json_normalize(obj)"
   ]
  },
  {
   "cell_type": "code",
   "execution_count": 4,
   "metadata": {},
   "outputs": [],
   "source": [
    "df = df.dropna(axis=1, how='all')"
   ]
  },
  {
   "cell_type": "code",
   "execution_count": 5,
   "metadata": {},
   "outputs": [
    {
     "data": {
      "text/plain": [
       "array(['Starting XI', 'Half Start', 'Pass', 'Ball Receipt*', 'Carry',\n",
       "       'Duel', 'Pressure', 'Dispossessed', 'Interception', 'Dribble',\n",
       "       'Ball Recovery', 'Clearance', 'Block', 'Dribbled Past',\n",
       "       'Foul Committed', 'Foul Won', 'Miscontrol', 'Goal Keeper',\n",
       "       'Shield', 'Shot', 'Injury Stoppage', 'Player Off', 'Player On',\n",
       "       'Referee Ball-Drop', 'Half End', 'Substitution', '50/50',\n",
       "       'Tactical Shift'], dtype=object)"
      ]
     },
     "execution_count": 5,
     "metadata": {},
     "output_type": "execute_result"
    }
   ],
   "source": [
    "df['type.name'].unique()"
   ]
  },
  {
   "cell_type": "code",
   "execution_count": 6,
   "metadata": {},
   "outputs": [],
   "source": [
    "notDef = ['Starting XI','Half Start','Pass','Ball Receipt*','Carry','Pressure','Dispossessed','Dribble','Dribbled Past','Miscontrol', 'Goal Keeper',  'Shot', 'Injury Stoppage', 'Player Off', 'Player On','Referee Ball-Drop', 'Half End', 'Substitution', 'Tactical Shift']"
   ]
  },
  {
   "cell_type": "code",
   "execution_count": 7,
   "metadata": {},
   "outputs": [
    {
     "data": {
      "text/plain": [
       "Index(['50_50.outcome.id', '50_50.outcome.name', 'ball_receipt.outcome.id',\n",
       "       'ball_receipt.outcome.name', 'ball_recovery.recovery_failure',\n",
       "       'carry.end_location', 'clearance.aerial_won', 'clearance.body_part.id',\n",
       "       'clearance.body_part.name', 'clearance.head',\n",
       "       ...\n",
       "       'substitution.replacement.id', 'substitution.replacement.name',\n",
       "       'tactics.formation', 'tactics.lineup', 'team.id', 'team.name',\n",
       "       'timestamp', 'type.id', 'type.name', 'under_pressure'],\n",
       "      dtype='object', length=116)"
      ]
     },
     "execution_count": 7,
     "metadata": {},
     "output_type": "execute_result"
    }
   ],
   "source": [
    "df.columns"
   ]
  },
  {
   "cell_type": "code",
   "execution_count": 8,
   "metadata": {},
   "outputs": [],
   "source": [
    "for val in notDef:\n",
    "    df = df[df[\"type.name\"] != val]"
   ]
  },
  {
   "cell_type": "code",
   "execution_count": 9,
   "metadata": {},
   "outputs": [
    {
     "data": {
      "text/plain": [
       "array(['Duel', 'Interception', 'Ball Recovery', 'Clearance', 'Block',\n",
       "       'Foul Committed', 'Foul Won', 'Shield', '50/50'], dtype=object)"
      ]
     },
     "execution_count": 9,
     "metadata": {},
     "output_type": "execute_result"
    }
   ],
   "source": [
    "df['type.name'].unique()"
   ]
  },
  {
   "cell_type": "code",
   "execution_count": 10,
   "metadata": {},
   "outputs": [],
   "source": [
    "us_def = df[df[\"team.id\"] == 1214]\n",
    "opp_def = df[df[\"team.id\"] != 1214]"
   ]
  },
  {
   "cell_type": "code",
   "execution_count": 11,
   "metadata": {},
   "outputs": [],
   "source": [
    "us_def = us_def.astype({\"player.id\": int})\n",
    "opp_def = opp_def.astype({\"player.id\": int})"
   ]
  },
  {
   "cell_type": "code",
   "execution_count": 12,
   "metadata": {},
   "outputs": [],
   "source": [
    "from scipy.spatial import ConvexHull\n",
    "from matplotlib.patches import Arc\n",
    "%matplotlib inline"
   ]
  },
  {
   "cell_type": "code",
   "execution_count": 14,
   "metadata": {},
   "outputs": [],
   "source": [
    "x = []\n",
    "y = []\n",
    "xo = []\n",
    "yo = []\n",
    "\n",
    "for loc in us_def['location'].values:\n",
    "    x.append(loc[0])\n",
    "    y.append(loc[1])\n",
    "    \n",
    "for loc in opp_def['location'].values:\n",
    "    xo.append(loc[0])\n",
    "    yo.append(loc[1])"
   ]
  },
  {
   "cell_type": "code",
   "execution_count": 15,
   "metadata": {},
   "outputs": [],
   "source": [
    "us_def['x'] = x\n",
    "us_def['y'] = y\n",
    "\n",
    "opp_def['x'] = xo\n",
    "opp_def['y'] = yo"
   ]
  },
  {
   "cell_type": "code",
   "execution_count": 16,
   "metadata": {},
   "outputs": [
    {
     "data": {
      "text/plain": [
       "array(['Right Center Midfield', 'Left Wing', 'Left Back',\n",
       "       'Left Center Back', 'Left Center Midfield', 'Right Back',\n",
       "       'Center Defensive Midfield', 'Goalkeeper', 'Right Center Back',\n",
       "       'Right Wing', 'Center Forward'], dtype=object)"
      ]
     },
     "execution_count": 16,
     "metadata": {},
     "output_type": "execute_result"
    }
   ],
   "source": [
    "#us_def.to_csv('abc.csv')\n",
    "us_def['position.name'].unique()"
   ]
  },
  {
   "cell_type": "code",
   "execution_count": 17,
   "metadata": {},
   "outputs": [],
   "source": [
    "pos = ['Right Center Midfield', 'Left Wing',\n",
    "       'Left Center Midfield', \n",
    "       'Center Defensive Midfield', \n",
    "       'Right Wing', 'Center Forward' ]\n",
    "\n",
    "for p in pos:\n",
    "    us_def = us_def[us_def[\"position.name\"] != p]\n",
    "    opp_def = opp_def[opp_def[\"position.name\"] != p]"
   ]
  },
  {
   "cell_type": "code",
   "execution_count": 21,
   "metadata": {},
   "outputs": [],
   "source": [
    "us_def = us_def[us_def['x'] < 100]\n",
    "opp_def = opp_def[opp_def['x'] < 100]"
   ]
  },
  {
   "cell_type": "code",
   "execution_count": 22,
   "metadata": {},
   "outputs": [
    {
     "data": {
      "image/png": "[encoded data removed]",
      "text/plain": [
       "<Figure size 504x360 with 1 Axes>"
      ]
     },
     "metadata": {
      "needs_background": "light"
     },
     "output_type": "display_data"
    }
   ],
   "source": [
    "fig=plt.figure()\n",
    "fig.set_size_inches(7, 5)\n",
    "ax=fig.add_subplot(1,1,1)\n",
    "\n",
    "#Pitch Outline & Centre Line\n",
    "plt.plot([0,0],[0,90], color=\"black\")\n",
    "plt.plot([0,130],[90,90], color=\"black\")\n",
    "plt.plot([130,130],[90,0], color=\"black\")\n",
    "plt.plot([130,0],[0,0], color=\"black\")\n",
    "plt.plot([65,65],[0,90], color=\"black\")\n",
    "\n",
    "#Left Penalty Area\n",
    "plt.plot([16.5,16.5],[65,25],color=\"black\")\n",
    "plt.plot([0,16.5],[65,65],color=\"black\")\n",
    "plt.plot([16.5,0],[25,25],color=\"black\")\n",
    "\n",
    "#Right Penalty Area\n",
    "plt.plot([130,113.5],[65,65],color=\"black\")\n",
    "plt.plot([113.5,113.5],[65,25],color=\"black\")\n",
    "plt.plot([113.5,130],[25,25],color=\"black\")\n",
    "\n",
    "#Left 6-yard Box\n",
    "plt.plot([0,5.5],[54,54],color=\"black\")\n",
    "plt.plot([5.5,5.5],[54,36],color=\"black\")\n",
    "plt.plot([5.5,0.5],[36,36],color=\"black\")\n",
    "\n",
    "#Right 6-yard Box\n",
    "plt.plot([130,124.5],[54,54],color=\"black\")\n",
    "plt.plot([124.5,124.5],[54,36],color=\"black\")\n",
    "plt.plot([124.5,130],[36,36],color=\"black\")\n",
    "\n",
    "#Prepare Circles\n",
    "centreCircle = plt.Circle((65,45),9.15,color=\"black\",fill=False)\n",
    "centreSpot = plt.Circle((65,45),0.8,color=\"black\")\n",
    "leftPenSpot = plt.Circle((11,45),0.8,color=\"black\")\n",
    "rightPenSpot = plt.Circle((119,45),0.8,color=\"black\")\n",
    "\n",
    "#Draw Circles\n",
    "ax.add_patch(centreCircle)\n",
    "ax.add_patch(centreSpot)\n",
    "ax.add_patch(leftPenSpot)\n",
    "ax.add_patch(rightPenSpot)\n",
    "\n",
    "#Prepare Arcs\n",
    "leftArc = Arc((11,45),height=18.3,width=18.3,angle=0,theta1=310,theta2=50,color=\"black\")\n",
    "rightArc = Arc((119,45),height=18.3,width=18.3,angle=0,theta1=130,theta2=230,color=\"black\")\n",
    "\n",
    "#Draw Arcs\n",
    "ax.add_patch(leftArc)\n",
    "ax.add_patch(rightArc)\n",
    "\n",
    "#Tidy Axes\n",
    "plt.axis('off')\n",
    "\n",
    "for player in us_def['player.id'].unique():\n",
    "    \n",
    "    #Create a new dataframe for the player\n",
    "    df = us_def[(us_def['player.id'] == player)]\n",
    "    \n",
    "    #Create an array of the x/y coordinate groups\n",
    "    points = df[['x', 'y']].values\n",
    "\n",
    "    #If there are enough points for a hull, create it. If there's an error, forget about it\n",
    "    try:\n",
    "        hull = ConvexHull(df[['x','y']])\n",
    "        \n",
    "    except:\n",
    "        pass\n",
    "    \n",
    "    #If we created the hull, draw the lines and fill with 5% transparent red. If there's an error, forget about it\n",
    "    try:     \n",
    "        for simplex in hull.simplices:\n",
    "            plt.plot(points[simplex, 0], points[simplex, 1], 'k-')\n",
    "            plt.fill(points[hull.vertices,0], points[hull.vertices,1], 'blue', alpha=0.05)\n",
    "                       \n",
    "    except:\n",
    "        pass\n",
    "    \n",
    "#Once all of the individual hulls have been created, plot them together\n",
    "\n",
    "plt.show()\n",
    "#plt.savefig('abc.png', dpi = 1000)"
   ]
  },
  {
   "cell_type": "code",
   "execution_count": 23,
   "metadata": {},
   "outputs": [
    {
     "data": {
      "image/png": "[encoded data removed]",
      "text/plain": [
       "<Figure size 504x360 with 1 Axes>"
      ]
     },
     "metadata": {
      "needs_background": "light"
     },
     "output_type": "display_data"
    }
   ],
   "source": [
    "fig=plt.figure()\n",
    "fig.set_size_inches(7, 5)\n",
    "ax=fig.add_subplot(1,1,1)\n",
    "\n",
    "#Pitch Outline & Centre Line\n",
    "plt.plot([0,0],[0,90], color=\"black\")\n",
    "plt.plot([0,130],[90,90], color=\"black\")\n",
    "plt.plot([130,130],[90,0], color=\"black\")\n",
    "plt.plot([130,0],[0,0], color=\"black\")\n",
    "plt.plot([65,65],[0,90], color=\"black\")\n",
    "\n",
    "#Left Penalty Area\n",
    "plt.plot([16.5,16.5],[65,25],color=\"black\")\n",
    "plt.plot([0,16.5],[65,65],color=\"black\")\n",
    "plt.plot([16.5,0],[25,25],color=\"black\")\n",
    "\n",
    "#Right Penalty Area\n",
    "plt.plot([130,113.5],[65,65],color=\"black\")\n",
    "plt.plot([113.5,113.5],[65,25],color=\"black\")\n",
    "plt.plot([113.5,130],[25,25],color=\"black\")\n",
    "\n",
    "#Left 6-yard Box\n",
    "plt.plot([0,5.5],[54,54],color=\"black\")\n",
    "plt.plot([5.5,5.5],[54,36],color=\"black\")\n",
    "plt.plot([5.5,0.5],[36,36],color=\"black\")\n",
    "\n",
    "#Right 6-yard Box\n",
    "plt.plot([130,124.5],[54,54],color=\"black\")\n",
    "plt.plot([124.5,124.5],[54,36],color=\"black\")\n",
    "plt.plot([124.5,130],[36,36],color=\"black\")\n",
    "\n",
    "#Prepare Circles\n",
    "centreCircle = plt.Circle((65,45),9.15,color=\"black\",fill=False)\n",
    "centreSpot = plt.Circle((65,45),0.8,color=\"black\")\n",
    "leftPenSpot = plt.Circle((11,45),0.8,color=\"black\")\n",
    "rightPenSpot = plt.Circle((119,45),0.8,color=\"black\")\n",
    "\n",
    "#Draw Circles\n",
    "ax.add_patch(centreCircle)\n",
    "ax.add_patch(centreSpot)\n",
    "ax.add_patch(leftPenSpot)\n",
    "ax.add_patch(rightPenSpot)\n",
    "\n",
    "#Prepare Arcs\n",
    "leftArc = Arc((11,45),height=18.3,width=18.3,angle=0,theta1=310,theta2=50,color=\"black\")\n",
    "rightArc = Arc((119,45),height=18.3,width=18.3,angle=0,theta1=130,theta2=230,color=\"black\")\n",
    "\n",
    "#Draw Arcs\n",
    "ax.add_patch(leftArc)\n",
    "ax.add_patch(rightArc)\n",
    "\n",
    "#Tidy Axes\n",
    "plt.axis('off')\n",
    "\n",
    "for player in opp_def['player.id'].unique():\n",
    "    \n",
    "    #Create a new dataframe for the player\n",
    "    df = opp_def[(opp_def['player.id'] == player)]\n",
    "    \n",
    "    #Create an array of the x/y coordinate groups\n",
    "    points = df[['x', 'y']].values\n",
    "\n",
    "    #If there are enough points for a hull, create it. If there's an error, forget about it\n",
    "    try:\n",
    "        hull = ConvexHull(df[['x','y']])\n",
    "        \n",
    "    except:\n",
    "        pass\n",
    "    \n",
    "    #If we created the hull, draw the lines and fill with 5% transparent red. If there's an error, forget about it\n",
    "    try:     \n",
    "        for simplex in hull.simplices:\n",
    "            plt.plot(points[simplex, 0], points[simplex, 1], 'k-')\n",
    "            plt.fill(points[hull.vertices,0], points[hull.vertices,1], 'red', alpha=0.05)\n",
    "                       \n",
    "    except:\n",
    "        pass\n",
    "    \n",
    "#Once all of the individual hulls have been created, plot them together\n",
    "\n",
    "plt.show()\n",
    "#plt.savefig('abc.png', dpi = 1000)"
   ]
  },
  {
   "cell_type": "code",
   "execution_count": null,
   "metadata": {},
   "outputs": [],
   "source": []
  }
 ],
 "metadata": {
  "kernelspec": {
   "display_name": "Python 3",
   "language": "python",
   "name": "python3"
  },
  "language_info": {
   "codemirror_mode": {
    "name": "ipython",
    "version": 3
   },
   "file_extension": ".py",
   "mimetype": "text/x-python",
   "name": "python",
   "nbconvert_exporter": "python",
   "pygments_lexer": "ipython3",
   "version": "3.7.3"
  }
 },
 "nbformat": 4,
 "nbformat_minor": 2
}
